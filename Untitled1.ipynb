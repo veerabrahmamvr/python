{
  "nbformat": 4,
  "nbformat_minor": 0,
  "metadata": {
    "colab": {
      "provenance": [],
      "authorship_tag": "ABX9TyMd2WzubaEsF/ajAdPrxsaP",
      "include_colab_link": true
    },
    "kernelspec": {
      "name": "python3",
      "display_name": "Python 3"
    },
    "language_info": {
      "name": "python"
    }
  },
  "cells": [
    {
      "cell_type": "markdown",
      "metadata": {
        "id": "view-in-github",
        "colab_type": "text"
      },
      "source": [
        "<a href=\"https://colab.research.google.com/github/veerabrahmamvr/python/blob/master/Untitled1.ipynb\" target=\"_parent\"><img src=\"https://colab.research.google.com/assets/colab-badge.svg\" alt=\"Open In Colab\"/></a>"
      ]
    },
    {
      "cell_type": "code",
      "execution_count": 9,
      "metadata": {
        "colab": {
          "base_uri": "https://localhost:8080/"
        },
        "id": "HbDsQXiWQbZw",
        "outputId": "1c368380-14b3-444b-eeb0-bbadff7e5730"
      },
      "outputs": [
        {
          "output_type": "stream",
          "name": "stdout",
          "text": [
            "Real Y: [-3, -1, 1, 3, 5, 7]\n",
            "myY : [-3, -1, 1, 3, 5, 7]\n",
            "My loss is: 0.0\n"
          ]
        }
      ],
      "source": [
        "import math\n",
        "w=2\n",
        "b=-1\n",
        "\n",
        "x=[-1,0,1,2,3,4]\n",
        "y=[-3,-1,1,3,5,7]\n",
        "myY=[]\n",
        "for thisX in x:\n",
        "    thisY = (w*thisX)+b\n",
        "    myY.append(thisY)\n",
        "print (\"Real Y: \"+str(y))\n",
        "print (\"myY : \"+str(myY))\n",
        "\n",
        "total_square_error=0\n",
        "for i in range(0,len(y)):\n",
        "    square_error=(y[i]-myY[i])**2\n",
        "    total_square_error += square_error\n",
        "\n",
        "print(\"My loss is: \" + str(math.sqrt(total_square_error)))\n"
      ]
    }
  ]
}